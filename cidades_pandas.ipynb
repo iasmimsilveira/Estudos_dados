{
  "nbformat": 4,
  "nbformat_minor": 0,
  "metadata": {
    "colab": {
      "name": "cidades-pandas.ipynb",
      "provenance": [],
      "collapsed_sections": [],
      "authorship_tag": "ABX9TyP3ta+eKotd2KFy2YNdGm7I",
      "include_colab_link": true
    },
    "kernelspec": {
      "name": "python3",
      "display_name": "Python 3"
    }
  },
  "cells": [
    {
      "cell_type": "markdown",
      "metadata": {
        "id": "view-in-github",
        "colab_type": "text"
      },
      "source": [
        "<a href=\"https://colab.research.google.com/github/iasmimsilveira/Estudos_dados/blob/main/cidades_pandas.ipynb\" target=\"_parent\"><img src=\"https://colab.research.google.com/assets/colab-badge.svg\" alt=\"Open In Colab\"/></a>"
      ]
    },
    {
      "cell_type": "code",
      "metadata": {
        "id": "SgjsTmv7qLVk"
      },
      "source": [
        "import pandas as pd\n"
      ],
      "execution_count": null,
      "outputs": []
    },
    {
      "cell_type": "code",
      "metadata": {
        "id": "3A3cCcIWqSSv",
        "colab": {
          "base_uri": "https://localhost:8080/",
          "height": 406
        },
        "outputId": "9b3f18b6-49f1-4d2f-dc2c-1b8507f557e4"
      },
      "source": [
        "dt_frame = pd.read_csv('https://raw.githubusercontent.com/datasets/world-cities/master/data/world-cities.csv', sep=',')\n",
        "dt_frame"
      ],
      "execution_count": 23,
      "outputs": [
        {
          "output_type": "execute_result",
          "data": {
            "text/html": [
              "<div>\n",
              "<style scoped>\n",
              "    .dataframe tbody tr th:only-of-type {\n",
              "        vertical-align: middle;\n",
              "    }\n",
              "\n",
              "    .dataframe tbody tr th {\n",
              "        vertical-align: top;\n",
              "    }\n",
              "\n",
              "    .dataframe thead th {\n",
              "        text-align: right;\n",
              "    }\n",
              "</style>\n",
              "<table border=\"1\" class=\"dataframe\">\n",
              "  <thead>\n",
              "    <tr style=\"text-align: right;\">\n",
              "      <th></th>\n",
              "      <th>name</th>\n",
              "      <th>country</th>\n",
              "      <th>subcountry</th>\n",
              "      <th>geonameid</th>\n",
              "    </tr>\n",
              "  </thead>\n",
              "  <tbody>\n",
              "    <tr>\n",
              "      <th>0</th>\n",
              "      <td>les Escaldes</td>\n",
              "      <td>Andorra</td>\n",
              "      <td>Escaldes-Engordany</td>\n",
              "      <td>3040051</td>\n",
              "    </tr>\n",
              "    <tr>\n",
              "      <th>1</th>\n",
              "      <td>Andorra la Vella</td>\n",
              "      <td>Andorra</td>\n",
              "      <td>Andorra la Vella</td>\n",
              "      <td>3041563</td>\n",
              "    </tr>\n",
              "    <tr>\n",
              "      <th>2</th>\n",
              "      <td>Umm al Qaywayn</td>\n",
              "      <td>United Arab Emirates</td>\n",
              "      <td>Umm al Qaywayn</td>\n",
              "      <td>290594</td>\n",
              "    </tr>\n",
              "    <tr>\n",
              "      <th>3</th>\n",
              "      <td>Ras al-Khaimah</td>\n",
              "      <td>United Arab Emirates</td>\n",
              "      <td>Raʼs al Khaymah</td>\n",
              "      <td>291074</td>\n",
              "    </tr>\n",
              "    <tr>\n",
              "      <th>4</th>\n",
              "      <td>Khawr Fakkān</td>\n",
              "      <td>United Arab Emirates</td>\n",
              "      <td>Ash Shāriqah</td>\n",
              "      <td>291696</td>\n",
              "    </tr>\n",
              "    <tr>\n",
              "      <th>...</th>\n",
              "      <td>...</td>\n",
              "      <td>...</td>\n",
              "      <td>...</td>\n",
              "      <td>...</td>\n",
              "    </tr>\n",
              "    <tr>\n",
              "      <th>23013</th>\n",
              "      <td>Bulawayo</td>\n",
              "      <td>Zimbabwe</td>\n",
              "      <td>Bulawayo</td>\n",
              "      <td>894701</td>\n",
              "    </tr>\n",
              "    <tr>\n",
              "      <th>23014</th>\n",
              "      <td>Bindura</td>\n",
              "      <td>Zimbabwe</td>\n",
              "      <td>Mashonaland Central</td>\n",
              "      <td>895061</td>\n",
              "    </tr>\n",
              "    <tr>\n",
              "      <th>23015</th>\n",
              "      <td>Beitbridge</td>\n",
              "      <td>Zimbabwe</td>\n",
              "      <td>Matabeleland South</td>\n",
              "      <td>895269</td>\n",
              "    </tr>\n",
              "    <tr>\n",
              "      <th>23016</th>\n",
              "      <td>Epworth</td>\n",
              "      <td>Zimbabwe</td>\n",
              "      <td>Harare</td>\n",
              "      <td>1085510</td>\n",
              "    </tr>\n",
              "    <tr>\n",
              "      <th>23017</th>\n",
              "      <td>Chitungwiza</td>\n",
              "      <td>Zimbabwe</td>\n",
              "      <td>Harare</td>\n",
              "      <td>1106542</td>\n",
              "    </tr>\n",
              "  </tbody>\n",
              "</table>\n",
              "<p>23018 rows × 4 columns</p>\n",
              "</div>"
            ],
            "text/plain": [
              "                   name               country           subcountry  geonameid\n",
              "0          les Escaldes               Andorra   Escaldes-Engordany    3040051\n",
              "1      Andorra la Vella               Andorra     Andorra la Vella    3041563\n",
              "2        Umm al Qaywayn  United Arab Emirates       Umm al Qaywayn     290594\n",
              "3        Ras al-Khaimah  United Arab Emirates      Raʼs al Khaymah     291074\n",
              "4          Khawr Fakkān  United Arab Emirates         Ash Shāriqah     291696\n",
              "...                 ...                   ...                  ...        ...\n",
              "23013          Bulawayo              Zimbabwe             Bulawayo     894701\n",
              "23014           Bindura              Zimbabwe  Mashonaland Central     895061\n",
              "23015        Beitbridge              Zimbabwe   Matabeleland South     895269\n",
              "23016           Epworth              Zimbabwe               Harare    1085510\n",
              "23017       Chitungwiza              Zimbabwe               Harare    1106542\n",
              "\n",
              "[23018 rows x 4 columns]"
            ]
          },
          "metadata": {
            "tags": []
          },
          "execution_count": 23
        }
      ]
    },
    {
      "cell_type": "markdown",
      "metadata": {
        "id": "dotJqnNWxWuv"
      },
      "source": [
        "Qual país tem mais cidades?"
      ]
    },
    {
      "cell_type": "code",
      "metadata": {
        "id": "qkjERDhkrcaA",
        "colab": {
          "base_uri": "https://localhost:8080/"
        },
        "outputId": "6c75a581-b376-4418-a16a-d3883d565eed"
      },
      "source": [
        "dt_frame[dt_frame['country'] == 'Brazil'].count()"
      ],
      "execution_count": 24,
      "outputs": [
        {
          "output_type": "execute_result",
          "data": {
            "text/plain": [
              "name          1200\n",
              "country       1200\n",
              "subcountry    1200\n",
              "geonameid     1200\n",
              "dtype: int64"
            ]
          },
          "metadata": {
            "tags": []
          },
          "execution_count": 24
        }
      ]
    },
    {
      "cell_type": "code",
      "metadata": {
        "id": "8qicdEEWr080",
        "colab": {
          "base_uri": "https://localhost:8080/"
        },
        "outputId": "8670e73a-78e1-42fc-a4d2-edc09b28f90e"
      },
      "source": [
        "dt_frame.groupby(['country'])['name'].count().sort_values(ascending=False)"
      ],
      "execution_count": 25,
      "outputs": [
        {
          "output_type": "execute_result",
          "data": {
            "text/plain": [
              "country\n",
              "United States    2699\n",
              "India            2443\n",
              "Brazil           1200\n",
              "Russia           1093\n",
              "Germany          1055\n",
              "                 ... \n",
              "Gibraltar           1\n",
              "Greenland           1\n",
              "Grenada             1\n",
              "Guernsey            1\n",
              "Seychelles          1\n",
              "Name: name, Length: 244, dtype: int64"
            ]
          },
          "metadata": {
            "tags": []
          },
          "execution_count": 25
        }
      ]
    },
    {
      "cell_type": "markdown",
      "metadata": {
        "id": "4xe7X8NaxsYU"
      },
      "source": [
        "Qual país tem mais subpaíses?"
      ]
    },
    {
      "cell_type": "code",
      "metadata": {
        "colab": {
          "base_uri": "https://localhost:8080/"
        },
        "id": "PO8A3RIBxv-x",
        "outputId": "cb577eaf-2738-4112-c6d1-ee1fc90bcd66"
      },
      "source": [
        "dt_frame.groupby(['country',  'subcountry'])['name'].count()"
      ],
      "execution_count": 26,
      "outputs": [
        {
          "output_type": "execute_result",
          "data": {
            "text/plain": [
              "country      subcountry        \n",
              "Afghanistan  Badakhshan            1\n",
              "             Badghis               1\n",
              "             Balkh                 3\n",
              "             Bāmīān                1\n",
              "             Farah                 1\n",
              "                                  ..\n",
              "Zimbabwe     Mashonaland West      6\n",
              "             Masvingo              3\n",
              "             Matabeleland North    2\n",
              "             Matabeleland South    1\n",
              "             Midlands              5\n",
              "Name: name, Length: 2658, dtype: int64"
            ]
          },
          "metadata": {
            "tags": []
          },
          "execution_count": 26
        }
      ]
    },
    {
      "cell_type": "code",
      "metadata": {
        "colab": {
          "base_uri": "https://localhost:8080/"
        },
        "id": "4tgS2m9AzOHq",
        "outputId": "d7c085e1-8501-4eac-e638-2b571c9a9d7d"
      },
      "source": [
        "dt_frame[(dt_frame['country'] == 'Brazil')].groupby(['country',  'subcountry'])['name'].count()"
      ],
      "execution_count": 27,
      "outputs": [
        {
          "output_type": "execute_result",
          "data": {
            "text/plain": [
              "country  subcountry         \n",
              "Brazil   Acre                     4\n",
              "         Alagoas                 21\n",
              "         Amapá                    2\n",
              "         Amazonas                14\n",
              "         Bahia                   97\n",
              "         Ceará                   59\n",
              "         Espírito Santo          20\n",
              "         Federal District         1\n",
              "         Goiás                   43\n",
              "         Maranhão                40\n",
              "         Mato Grosso             13\n",
              "         Mato Grosso do Sul      20\n",
              "         Minas Gerais           154\n",
              "         Paraná                  71\n",
              "         Paraíba                 22\n",
              "         Pará                    38\n",
              "         Pernambuco              65\n",
              "         Piauí                   17\n",
              "         Rio Grande do Norte     18\n",
              "         Rio Grande do Sul       96\n",
              "         Rio de Janeiro          56\n",
              "         Rondônia                10\n",
              "         Roraima                  1\n",
              "         Santa Catarina          56\n",
              "         Sergipe                 14\n",
              "         São Paulo              245\n",
              "         Tocantins                3\n",
              "Name: name, dtype: int64"
            ]
          },
          "metadata": {
            "tags": []
          },
          "execution_count": 27
        }
      ]
    },
    {
      "cell_type": "code",
      "metadata": {
        "colab": {
          "base_uri": "https://localhost:8080/",
          "height": 406
        },
        "id": "B3imk0u_2O8W",
        "outputId": "4871e0c2-ca90-4a77-cbdd-d9da69fbc726"
      },
      "source": [
        "dt_frame"
      ],
      "execution_count": 28,
      "outputs": [
        {
          "output_type": "execute_result",
          "data": {
            "text/html": [
              "<div>\n",
              "<style scoped>\n",
              "    .dataframe tbody tr th:only-of-type {\n",
              "        vertical-align: middle;\n",
              "    }\n",
              "\n",
              "    .dataframe tbody tr th {\n",
              "        vertical-align: top;\n",
              "    }\n",
              "\n",
              "    .dataframe thead th {\n",
              "        text-align: right;\n",
              "    }\n",
              "</style>\n",
              "<table border=\"1\" class=\"dataframe\">\n",
              "  <thead>\n",
              "    <tr style=\"text-align: right;\">\n",
              "      <th></th>\n",
              "      <th>name</th>\n",
              "      <th>country</th>\n",
              "      <th>subcountry</th>\n",
              "      <th>geonameid</th>\n",
              "    </tr>\n",
              "  </thead>\n",
              "  <tbody>\n",
              "    <tr>\n",
              "      <th>0</th>\n",
              "      <td>les Escaldes</td>\n",
              "      <td>Andorra</td>\n",
              "      <td>Escaldes-Engordany</td>\n",
              "      <td>3040051</td>\n",
              "    </tr>\n",
              "    <tr>\n",
              "      <th>1</th>\n",
              "      <td>Andorra la Vella</td>\n",
              "      <td>Andorra</td>\n",
              "      <td>Andorra la Vella</td>\n",
              "      <td>3041563</td>\n",
              "    </tr>\n",
              "    <tr>\n",
              "      <th>2</th>\n",
              "      <td>Umm al Qaywayn</td>\n",
              "      <td>United Arab Emirates</td>\n",
              "      <td>Umm al Qaywayn</td>\n",
              "      <td>290594</td>\n",
              "    </tr>\n",
              "    <tr>\n",
              "      <th>3</th>\n",
              "      <td>Ras al-Khaimah</td>\n",
              "      <td>United Arab Emirates</td>\n",
              "      <td>Raʼs al Khaymah</td>\n",
              "      <td>291074</td>\n",
              "    </tr>\n",
              "    <tr>\n",
              "      <th>4</th>\n",
              "      <td>Khawr Fakkān</td>\n",
              "      <td>United Arab Emirates</td>\n",
              "      <td>Ash Shāriqah</td>\n",
              "      <td>291696</td>\n",
              "    </tr>\n",
              "    <tr>\n",
              "      <th>...</th>\n",
              "      <td>...</td>\n",
              "      <td>...</td>\n",
              "      <td>...</td>\n",
              "      <td>...</td>\n",
              "    </tr>\n",
              "    <tr>\n",
              "      <th>23013</th>\n",
              "      <td>Bulawayo</td>\n",
              "      <td>Zimbabwe</td>\n",
              "      <td>Bulawayo</td>\n",
              "      <td>894701</td>\n",
              "    </tr>\n",
              "    <tr>\n",
              "      <th>23014</th>\n",
              "      <td>Bindura</td>\n",
              "      <td>Zimbabwe</td>\n",
              "      <td>Mashonaland Central</td>\n",
              "      <td>895061</td>\n",
              "    </tr>\n",
              "    <tr>\n",
              "      <th>23015</th>\n",
              "      <td>Beitbridge</td>\n",
              "      <td>Zimbabwe</td>\n",
              "      <td>Matabeleland South</td>\n",
              "      <td>895269</td>\n",
              "    </tr>\n",
              "    <tr>\n",
              "      <th>23016</th>\n",
              "      <td>Epworth</td>\n",
              "      <td>Zimbabwe</td>\n",
              "      <td>Harare</td>\n",
              "      <td>1085510</td>\n",
              "    </tr>\n",
              "    <tr>\n",
              "      <th>23017</th>\n",
              "      <td>Chitungwiza</td>\n",
              "      <td>Zimbabwe</td>\n",
              "      <td>Harare</td>\n",
              "      <td>1106542</td>\n",
              "    </tr>\n",
              "  </tbody>\n",
              "</table>\n",
              "<p>23018 rows × 4 columns</p>\n",
              "</div>"
            ],
            "text/plain": [
              "                   name               country           subcountry  geonameid\n",
              "0          les Escaldes               Andorra   Escaldes-Engordany    3040051\n",
              "1      Andorra la Vella               Andorra     Andorra la Vella    3041563\n",
              "2        Umm al Qaywayn  United Arab Emirates       Umm al Qaywayn     290594\n",
              "3        Ras al-Khaimah  United Arab Emirates      Raʼs al Khaymah     291074\n",
              "4          Khawr Fakkān  United Arab Emirates         Ash Shāriqah     291696\n",
              "...                 ...                   ...                  ...        ...\n",
              "23013          Bulawayo              Zimbabwe             Bulawayo     894701\n",
              "23014           Bindura              Zimbabwe  Mashonaland Central     895061\n",
              "23015        Beitbridge              Zimbabwe   Matabeleland South     895269\n",
              "23016           Epworth              Zimbabwe               Harare    1085510\n",
              "23017       Chitungwiza              Zimbabwe               Harare    1106542\n",
              "\n",
              "[23018 rows x 4 columns]"
            ]
          },
          "metadata": {
            "tags": []
          },
          "execution_count": 28
        }
      ]
    },
    {
      "cell_type": "code",
      "metadata": {
        "colab": {
          "base_uri": "https://localhost:8080/",
          "height": 217
        },
        "id": "oxph5tqG2S1I",
        "outputId": "b9f8ca8c-fc3d-43f5-8c45-cd17de1858d5"
      },
      "source": [
        "dt_frame.head().T"
      ],
      "execution_count": 22,
      "outputs": [
        {
          "output_type": "execute_result",
          "data": {
            "text/html": [
              "<div>\n",
              "<style scoped>\n",
              "    .dataframe tbody tr th:only-of-type {\n",
              "        vertical-align: middle;\n",
              "    }\n",
              "\n",
              "    .dataframe tbody tr th {\n",
              "        vertical-align: top;\n",
              "    }\n",
              "\n",
              "    .dataframe thead th {\n",
              "        text-align: right;\n",
              "    }\n",
              "</style>\n",
              "<table border=\"1\" class=\"dataframe\">\n",
              "  <thead>\n",
              "    <tr style=\"text-align: right;\">\n",
              "      <th></th>\n",
              "      <th>0</th>\n",
              "      <th>1</th>\n",
              "      <th>2</th>\n",
              "      <th>3</th>\n",
              "      <th>4</th>\n",
              "    </tr>\n",
              "  </thead>\n",
              "  <tbody>\n",
              "    <tr>\n",
              "      <th>name</th>\n",
              "      <td>les Escaldes</td>\n",
              "      <td>Andorra la Vella</td>\n",
              "      <td>Umm al Qaywayn</td>\n",
              "      <td>Ras al-Khaimah</td>\n",
              "      <td>Khawr Fakkān</td>\n",
              "    </tr>\n",
              "    <tr>\n",
              "      <th>country</th>\n",
              "      <td>Andorra</td>\n",
              "      <td>Andorra</td>\n",
              "      <td>United Arab Emirates</td>\n",
              "      <td>United Arab Emirates</td>\n",
              "      <td>United Arab Emirates</td>\n",
              "    </tr>\n",
              "    <tr>\n",
              "      <th>subcountry</th>\n",
              "      <td>Escaldes-Engordany</td>\n",
              "      <td>Andorra la Vella</td>\n",
              "      <td>Umm al Qaywayn</td>\n",
              "      <td>Raʼs al Khaymah</td>\n",
              "      <td>Ash Shāriqah</td>\n",
              "    </tr>\n",
              "    <tr>\n",
              "      <th>geonameid</th>\n",
              "      <td>3040051</td>\n",
              "      <td>3041563</td>\n",
              "      <td>290594</td>\n",
              "      <td>291074</td>\n",
              "      <td>291696</td>\n",
              "    </tr>\n",
              "  </tbody>\n",
              "</table>\n",
              "</div>"
            ],
            "text/plain": [
              "                             0  ...                     4\n",
              "name              les Escaldes  ...          Khawr Fakkān\n",
              "country                Andorra  ...  United Arab Emirates\n",
              "subcountry  Escaldes-Engordany  ...          Ash Shāriqah\n",
              "geonameid              3040051  ...                291696\n",
              "\n",
              "[4 rows x 5 columns]"
            ]
          },
          "metadata": {
            "tags": []
          },
          "execution_count": 22
        }
      ]
    },
    {
      "cell_type": "code",
      "metadata": {
        "id": "0VsY9mJ94lIP",
        "outputId": "498b1362-891d-4f07-cdda-2870e85f05c7",
        "colab": {
          "base_uri": "https://localhost:8080/"
        }
      },
      "source": [
        "dt_frame.geonameid"
      ],
      "execution_count": 29,
      "outputs": [
        {
          "output_type": "execute_result",
          "data": {
            "text/plain": [
              "0        3040051\n",
              "1        3041563\n",
              "2         290594\n",
              "3         291074\n",
              "4         291696\n",
              "          ...   \n",
              "23013     894701\n",
              "23014     895061\n",
              "23015     895269\n",
              "23016    1085510\n",
              "23017    1106542\n",
              "Name: geonameid, Length: 23018, dtype: int64"
            ]
          },
          "metadata": {
            "tags": []
          },
          "execution_count": 29
        }
      ]
    }
  ]
}