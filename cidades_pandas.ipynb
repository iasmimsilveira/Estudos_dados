{
  "nbformat": 4,
  "nbformat_minor": 0,
  "metadata": {
    "colab": {
      "name": "cidades-pandas.ipynb",
      "provenance": [],
      "collapsed_sections": [],
      "authorship_tag": "ABX9TyM9ryj0geKDOXm4rzFd10TP",
      "include_colab_link": true
    },
    "kernelspec": {
      "name": "python3",
      "display_name": "Python 3"
    }
  },
  "cells": [
    {
      "cell_type": "markdown",
      "metadata": {
        "id": "view-in-github",
        "colab_type": "text"
      },
      "source": [
        "<a href=\"https://colab.research.google.com/github/iasmimsilveira/Estudos_dados/blob/main/cidades_pandas.ipynb\" target=\"_parent\"><img src=\"https://colab.research.google.com/assets/colab-badge.svg\" alt=\"Open In Colab\"/></a>"
      ]
    },
    {
      "cell_type": "code",
      "metadata": {
        "id": "SgjsTmv7qLVk"
      },
      "source": [
        "import pandas as pd\n"
      ],
      "execution_count": null,
      "outputs": []
    },
    {
      "cell_type": "code",
      "metadata": {
        "id": "3A3cCcIWqSSv"
      },
      "source": [
        "dt_frame = pd.read_csv('https://raw.githubusercontent.com/datasets/world-cities/master/data/world-cities.csv', sep=',')\n",
        "dt_frame"
      ],
      "execution_count": null,
      "outputs": []
    },
    {
      "cell_type": "markdown",
      "metadata": {
        "id": "dotJqnNWxWuv"
      },
      "source": [
        "Qual país tem mais cidades?"
      ]
    },
    {
      "cell_type": "code",
      "metadata": {
        "id": "qkjERDhkrcaA"
      },
      "source": [
        "dt_frame[dt_frame['country'] == 'Brazil'].count()"
      ],
      "execution_count": null,
      "outputs": []
    },
    {
      "cell_type": "code",
      "metadata": {
        "id": "8qicdEEWr080"
      },
      "source": [
        "dt_frame.groupby(['country'])['name'].count().sort_values(ascending=False)"
      ],
      "execution_count": null,
      "outputs": []
    },
    {
      "cell_type": "markdown",
      "metadata": {
        "id": "4xe7X8NaxsYU"
      },
      "source": [
        "Qual país tem mais subpaíses?"
      ]
    },
    {
      "cell_type": "code",
      "metadata": {
        "id": "PO8A3RIBxv-x"
      },
      "source": [
        "dt_frame.groupby(['country',  'subcountry'])['name'].count()"
      ],
      "execution_count": null,
      "outputs": []
    },
    {
      "cell_type": "code",
      "metadata": {
        "id": "4tgS2m9AzOHq"
      },
      "source": [
        "dt_frame[(dt_frame['country'] == 'Brazil')].groupby(['country',  'subcountry'])['name'].count()"
      ],
      "execution_count": null,
      "outputs": []
    },
    {
      "cell_type": "code",
      "metadata": {
        "id": "B3imk0u_2O8W"
      },
      "source": [
        "dt_frame"
      ],
      "execution_count": null,
      "outputs": []
    },
    {
      "cell_type": "code",
      "metadata": {
        "colab": {
          "base_uri": "https://localhost:8080/",
          "height": 217
        },
        "id": "oxph5tqG2S1I",
        "outputId": "b9f8ca8c-fc3d-43f5-8c45-cd17de1858d5"
      },
      "source": [
        "dt_frame.head().T"
      ],
      "execution_count": 22,
      "outputs": [
        {
          "output_type": "execute_result",
          "data": {
            "text/html": [
              "<div>\n",
              "<style scoped>\n",
              "    .dataframe tbody tr th:only-of-type {\n",
              "        vertical-align: middle;\n",
              "    }\n",
              "\n",
              "    .dataframe tbody tr th {\n",
              "        vertical-align: top;\n",
              "    }\n",
              "\n",
              "    .dataframe thead th {\n",
              "        text-align: right;\n",
              "    }\n",
              "</style>\n",
              "<table border=\"1\" class=\"dataframe\">\n",
              "  <thead>\n",
              "    <tr style=\"text-align: right;\">\n",
              "      <th></th>\n",
              "      <th>0</th>\n",
              "      <th>1</th>\n",
              "      <th>2</th>\n",
              "      <th>3</th>\n",
              "      <th>4</th>\n",
              "    </tr>\n",
              "  </thead>\n",
              "  <tbody>\n",
              "    <tr>\n",
              "      <th>name</th>\n",
              "      <td>les Escaldes</td>\n",
              "      <td>Andorra la Vella</td>\n",
              "      <td>Umm al Qaywayn</td>\n",
              "      <td>Ras al-Khaimah</td>\n",
              "      <td>Khawr Fakkān</td>\n",
              "    </tr>\n",
              "    <tr>\n",
              "      <th>country</th>\n",
              "      <td>Andorra</td>\n",
              "      <td>Andorra</td>\n",
              "      <td>United Arab Emirates</td>\n",
              "      <td>United Arab Emirates</td>\n",
              "      <td>United Arab Emirates</td>\n",
              "    </tr>\n",
              "    <tr>\n",
              "      <th>subcountry</th>\n",
              "      <td>Escaldes-Engordany</td>\n",
              "      <td>Andorra la Vella</td>\n",
              "      <td>Umm al Qaywayn</td>\n",
              "      <td>Raʼs al Khaymah</td>\n",
              "      <td>Ash Shāriqah</td>\n",
              "    </tr>\n",
              "    <tr>\n",
              "      <th>geonameid</th>\n",
              "      <td>3040051</td>\n",
              "      <td>3041563</td>\n",
              "      <td>290594</td>\n",
              "      <td>291074</td>\n",
              "      <td>291696</td>\n",
              "    </tr>\n",
              "  </tbody>\n",
              "</table>\n",
              "</div>"
            ],
            "text/plain": [
              "                             0  ...                     4\n",
              "name              les Escaldes  ...          Khawr Fakkān\n",
              "country                Andorra  ...  United Arab Emirates\n",
              "subcountry  Escaldes-Engordany  ...          Ash Shāriqah\n",
              "geonameid              3040051  ...                291696\n",
              "\n",
              "[4 rows x 5 columns]"
            ]
          },
          "metadata": {
            "tags": []
          },
          "execution_count": 22
        }
      ]
    }
  ]
}