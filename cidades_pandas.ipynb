{
  "nbformat": 4,
  "nbformat_minor": 0,
  "metadata": {
    "colab": {
      "name": "cidades-pandas.ipynb",
      "provenance": [],
      "collapsed_sections": [],
      "authorship_tag": "ABX9TyOHjnSaMJForeoJ6TXrLsr/",
      "include_colab_link": true
    },
    "kernelspec": {
      "name": "python3",
      "display_name": "Python 3"
    }
  },
  "cells": [
    {
      "cell_type": "markdown",
      "metadata": {
        "id": "view-in-github",
        "colab_type": "text"
      },
      "source": [
        "<a href=\"https://colab.research.google.com/github/iasmimsilveira/Estudos_dados/blob/main/cidades_pandas.ipynb\" target=\"_parent\"><img src=\"https://colab.research.google.com/assets/colab-badge.svg\" alt=\"Open In Colab\"/></a>"
      ]
    },
    {
      "cell_type": "code",
      "metadata": {
        "id": "SgjsTmv7qLVk"
      },
      "source": [
        "import pandas as pd\n"
      ],
      "execution_count": null,
      "outputs": []
    },
    {
      "cell_type": "code",
      "metadata": {
        "id": "3A3cCcIWqSSv"
      },
      "source": [
        "dt_frame = pd.read_csv('https://raw.githubusercontent.com/datasets/world-cities/master/data/world-cities.csv', sep=',')\n",
        "dt_frame"
      ],
      "execution_count": null,
      "outputs": []
    },
    {
      "cell_type": "markdown",
      "metadata": {
        "id": "dotJqnNWxWuv"
      },
      "source": [
        "Qual país tem mais cidades?"
      ]
    },
    {
      "cell_type": "code",
      "metadata": {
        "id": "qkjERDhkrcaA"
      },
      "source": [
        "dt_frame[dt_frame['country'] == 'Brazil'].count()"
      ],
      "execution_count": null,
      "outputs": []
    },
    {
      "cell_type": "code",
      "metadata": {
        "id": "8qicdEEWr080"
      },
      "source": [
        "dt_frame.groupby(['country'])['name'].count().sort_values(ascending=False)"
      ],
      "execution_count": null,
      "outputs": []
    },
    {
      "cell_type": "markdown",
      "metadata": {
        "id": "4xe7X8NaxsYU"
      },
      "source": [
        "Qual país tem mais subpaíses?"
      ]
    },
    {
      "cell_type": "code",
      "metadata": {
        "id": "PO8A3RIBxv-x"
      },
      "source": [
        "dt_frame.groupby(['country',  'subcountry'])['name'].count()"
      ],
      "execution_count": null,
      "outputs": []
    },
    {
      "cell_type": "code",
      "metadata": {
        "id": "4tgS2m9AzOHq"
      },
      "source": [
        "dt_frame[(dt_frame['country'] == 'Brazil')].groupby(['country',  'subcountry'])['name'].count()"
      ],
      "execution_count": null,
      "outputs": []
    }
  ]
}