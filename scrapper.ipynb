{
  "nbformat": 4,
  "nbformat_minor": 0,
  "metadata": {
    "colab": {
      "name": "scrapper.ipynb",
      "provenance": [],
      "authorship_tag": "ABX9TyOcp2q/Rzm7dq7kQ3idPqQR",
      "include_colab_link": true
    },
    "kernelspec": {
      "name": "python3",
      "display_name": "Python 3"
    }
  },
  "cells": [
    {
      "cell_type": "markdown",
      "metadata": {
        "id": "view-in-github",
        "colab_type": "text"
      },
      "source": [
        "<a href=\"https://colab.research.google.com/github/iasmimsilveira/Estudos_dados/blob/main/scrapper.ipynb\" target=\"_parent\"><img src=\"https://colab.research.google.com/assets/colab-badge.svg\" alt=\"Open In Colab\"/></a>"
      ]
    },
    {
      "cell_type": "markdown",
      "metadata": {
        "id": "XdIjiTpA46ok"
      },
      "source": [
        "#**AULA**\n",
        "\n",
        "##Scraper\n"
      ]
    },
    {
      "cell_type": "code",
      "metadata": {
        "id": "ZcCquk--poED"
      },
      "source": [
        "import requests\n",
        "from bs4 import BeautifulSoup\n"
      ],
      "execution_count": 19,
      "outputs": []
    },
    {
      "cell_type": "markdown",
      "metadata": {
        "id": "6IChxABo5TWv"
      },
      "source": [
        "Exemplo Previsão do Tempo\n",
        "Bloco com recuo"
      ]
    },
    {
      "cell_type": "code",
      "metadata": {
        "id": "6l79MrPOqGWY"
      },
      "source": [
        "url = \"http://www.cptec.inpe.br/cidades/tempo/241\"\n",
        "\n",
        "requisicao = requests.get(url)\n",
        "\n",
        "# Testando se a conexão funcionou\n",
        "if requisicao.status_code != 200:\n",
        "  requisicao.raise_for_status()\n",
        "\n",
        "#requisicao.encoding = 'utf-8' # Mudar o enconding (acentuação)\n",
        "html = requisicao.text\n",
        "soup = BeautifulSoup(html, \"lxml\")"
      ],
      "execution_count": 20,
      "outputs": []
    },
    {
      "cell_type": "code",
      "metadata": {
        "colab": {
          "base_uri": "https://localhost:8080/"
        },
        "id": "tqMJp1jwrWHc",
        "outputId": "2105b40c-83f8-4fdc-a179-7ace07645408"
      },
      "source": [
        "result = []\n",
        "for div_previsao in soup.find_all('div', class_='row align-middle justify-content-md-center'):\n",
        "  for div_tit, div_temp_min,div_temp_max  in zip(div_previsao.find_all('h5'), \n",
        "                                   div_previsao.find_all('span', class_='text-primary text-left font-weight-bold pull-left h5'),\n",
        "                                   div_previsao.find_all('span', class_='text-danger text-right font-weight-bold pull-right h5')):\n",
        "    result.append({'data' : div_tit.text, \n",
        "                   'min': div_temp_min.text.replace('\\xa0', ''), \n",
        "                   'max' : div_temp_max.text.replace('\\xa0', '')})\n",
        "result"
      ],
      "execution_count": 21,
      "outputs": [
        {
          "output_type": "execute_result",
          "data": {
            "text/plain": [
              "[{'data': 'Quarta-feira02/12', 'max': '28°', 'min': '25°'},\n",
              " {'data': 'Quinta-feira03/12', 'max': '32°', 'min': '24°'},\n",
              " {'data': 'Sexta-feira04/12', 'max': '31°', 'min': '25°'},\n",
              " {'data': 'Sábado05/12', 'max': '26°', 'min': '24°'},\n",
              " {'data': 'Domingo06/12', 'max': '27°', 'min': '21°'},\n",
              " {'data': 'Segunda-feira07/12', 'max': '25°', 'min': '20°'},\n",
              " {'data': 'Terça-feira08/12', 'max': '25°', 'min': '22°'},\n",
              " {'data': 'Quarta-feira09/12', 'max': '24°', 'min': '22°'},\n",
              " {'data': 'Quinta-feira10/12', 'max': '25°', 'min': '22°'},\n",
              " {'data': 'Sexta-feira11/12', 'max': '27°', 'min': '23°'},\n",
              " {'data': 'Sábado12/12', 'max': '25°', 'min': '22°'},\n",
              " {'data': 'Domingo13/12', 'max': '24°', 'min': '22°'}]"
            ]
          },
          "metadata": {
            "tags": []
          },
          "execution_count": 21
        }
      ]
    },
    {
      "cell_type": "markdown",
      "metadata": {
        "id": "Dld_gs8P5Zvi"
      },
      "source": [
        "###Exemplo G1\n"
      ]
    },
    {
      "cell_type": "code",
      "metadata": {
        "id": "SzrzWC32uDo3"
      },
      "source": [
        "url = \"https://gshow.globo.com/Famosos/noticia/angelica-ganha-homenagem-de-eva-que-se-veste-de-fada-bela.ghtml\"\n",
        "\n",
        "requisicao = requests.get(url)\n",
        "\n",
        "# Testando se a conexão funcionou\n",
        "if requisicao.status_code != 200:\n",
        "  requisicao.raise_for_status()\n",
        "\n",
        "#requisicao.encoding = 'utf-8' # Mudar o enconding (acentuação)\n",
        "html = requisicao.text\n",
        "soup = BeautifulSoup(html, \"lxml\")"
      ],
      "execution_count": 22,
      "outputs": []
    },
    {
      "cell_type": "code",
      "metadata": {
        "colab": {
          "base_uri": "https://localhost:8080/",
          "height": 266
        },
        "id": "JCB8eJSg5j2B",
        "outputId": "ae7fc79d-c43c-49c7-aff7-1610e7e331f5"
      },
      "source": [
        "texto = \"\"\n",
        "for texto_angelica in soup.find_all(['p', 'blockquote']):\n",
        "  texto += texto_angelica.text.replace(\"\\n\", ' ')\n",
        "texto"
      ],
      "execution_count": 24,
      "outputs": [
        {
          "output_type": "execute_result",
          "data": {
            "application/vnd.google.colaboratory.intrinsic+json": {
              "type": "string"
            },
            "text/plain": [
              "' Por Gshow — Rio de Janeiro   30/11/2020 23h25    Atualizado  2020-12-01T02:54:59.517Z     Eva se veste de Fada Bela e presta homenagem para a mãe, aniversariante do dia — Foto: Reprodução/Instagram  Por essa, Angélica, a aniversariante desta segunda-feira, 30/11, não esperava. No fim do dia, sua caçula, Eva, do casamento com Luciano Huck, caprichou na produção e prestou uma homenagem para a mãe pelos 47 anos. A menina, de 8, se fantasiou de fada Bela, personagem vivida pela apresentadora em Caça Talentos (1996). Angélica, claro, se emocionou com o gesto da pequena, irmã de Joaquim e Benício, de 15 e 13 anos respectivamente. \"E o meu dia termina com uma surpresa da minha #Eva. Ela se produziu de fada Bela e veio me homenagear😍Fofaaaaa, te amo filha! #aimeucoracao #obrigadameuDeus #portantoamor #gratidao\", escreveu Angélica.             Mesmo nesse período de distanciamento social por conta do avanço do coronavírus, Angélica passou o dia cercada de boas energias e recebeu milhares de mensagens de carinho pelo novo ciclo de vida: \"Adoro aniversário! Adoro comemorar a vida e, nessa época, vou ficando mais feliz e animada, como boa sagitariana. Este ano, sem dúvida nenhuma é diferente, porque a gente teve que se adaptar a muitas coisas. Estamos vivendo muitas coisas ainda. Por isso, acho que o significado especial é agradecer mais uma vez pela vida, pela saúde e pelos aprendizados que vivi durante o ano\", refletiu. Angélica celebra novo ciclo — Foto: Arte: Ighor Jesus | Reprodução/Instagram  Huck usou seu perfil nas redes sociais para se declarar para a esposa. Eles são casados há 16 anos: \"Hoje é o dia dela. Dia de celebrar a mulher mais incrível que já conheci.\" \"Este ano, está sendo um ano difícil, estranho, dolorido para o Brasil e o mundo. Mas ficamos mais juntos do que nunca. Isolados, quarentenados, recolhidos. E quanto mais tempo, quanto mais junto, quanto mais perto fico dela, mais potente fica nossa relação, nossa parceria, nosso amor. Feliz aniversário. Te amo ao infinito e além\", escreveu o apresentador. Angélica e Luciano Huck — Foto: Reprodução/Instagram Angélica conta que a descoberta da meditação a ajudou a superar crises de pânico: \\'Me fez ver a vida de outra forma\\' Assista a todas as entrevistas com Angélica sobre os temas do \\'Simples Assim\\':  Ouça o podcast do \\'Simples Assim\\'!  📌 Siga o Gshow nas redes sociais!👉 Clique e curta o Gshow no Facebook👉 Clique e siga o Gshow no Twitter👉 Clique e siga o Gshow no Instagram👉 Clique e siga o Gshow no Pinterest Vídeos para você'"
            ]
          },
          "metadata": {
            "tags": []
          },
          "execution_count": 24
        }
      ]
    },
    {
      "cell_type": "code",
      "metadata": {
        "id": "2JtL9GNW5orm"
      },
      "source": [
        ""
      ],
      "execution_count": null,
      "outputs": []
    }
  ]
}