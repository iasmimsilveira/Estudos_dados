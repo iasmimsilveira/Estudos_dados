{
  "nbformat": 4,
  "nbformat_minor": 0,
  "metadata": {
    "colab": {
      "name": "scrapper.ipynb",
      "provenance": [],
      "authorship_tag": "ABX9TyNmy3T/0V20SfBboJ7LO/e8",
      "include_colab_link": true
    },
    "kernelspec": {
      "name": "python3",
      "display_name": "Python 3"
    }
  },
  "cells": [
    {
      "cell_type": "markdown",
      "metadata": {
        "id": "view-in-github",
        "colab_type": "text"
      },
      "source": [
        "<a href=\"https://colab.research.google.com/github/iasmimsilveira/Estudos_dados/blob/main/scrapper.ipynb\" target=\"_parent\"><img src=\"https://colab.research.google.com/assets/colab-badge.svg\" alt=\"Open In Colab\"/></a>"
      ]
    },
    {
      "cell_type": "code",
      "metadata": {
        "id": "ZcCquk--poED"
      },
      "source": [
        "import requests\n",
        "from bs4 import BeautifulSoup\n"
      ],
      "execution_count": 19,
      "outputs": []
    },
    {
      "cell_type": "code",
      "metadata": {
        "id": "6l79MrPOqGWY"
      },
      "source": [
        "url = \"http://www.cptec.inpe.br/cidades/tempo/241\"\n",
        "\n",
        "requisicao = requests.get(url)\n",
        "\n",
        "# Testando se a conexão funcionou\n",
        "if requisicao.status_code != 200:\n",
        "  requisicao.raise_for_status()\n",
        "\n",
        "#requisicao.encoding = 'utf-8' # Mudar o enconding (acentuação)\n",
        "html = requisicao.text\n",
        "soup = BeautifulSoup(html, \"lxml\")"
      ],
      "execution_count": 20,
      "outputs": []
    },
    {
      "cell_type": "code",
      "metadata": {
        "colab": {
          "base_uri": "https://localhost:8080/"
        },
        "id": "tqMJp1jwrWHc",
        "outputId": "2105b40c-83f8-4fdc-a179-7ace07645408"
      },
      "source": [
        "result = []\n",
        "for div_previsao in soup.find_all('div', class_='row align-middle justify-content-md-center'):\n",
        "  for div_tit, div_temp_min,div_temp_max  in zip(div_previsao.find_all('h5'), \n",
        "                                   div_previsao.find_all('span', class_='text-primary text-left font-weight-bold pull-left h5'),\n",
        "                                   div_previsao.find_all('span', class_='text-danger text-right font-weight-bold pull-right h5')):\n",
        "    result.append({'data' : div_tit.text, \n",
        "                   'min': div_temp_min.text.replace('\\xa0', ''), \n",
        "                   'max' : div_temp_max.text.replace('\\xa0', '')})\n",
        "result"
      ],
      "execution_count": 21,
      "outputs": [
        {
          "output_type": "execute_result",
          "data": {
            "text/plain": [
              "[{'data': 'Quarta-feira02/12', 'max': '28°', 'min': '25°'},\n",
              " {'data': 'Quinta-feira03/12', 'max': '32°', 'min': '24°'},\n",
              " {'data': 'Sexta-feira04/12', 'max': '31°', 'min': '25°'},\n",
              " {'data': 'Sábado05/12', 'max': '26°', 'min': '24°'},\n",
              " {'data': 'Domingo06/12', 'max': '27°', 'min': '21°'},\n",
              " {'data': 'Segunda-feira07/12', 'max': '25°', 'min': '20°'},\n",
              " {'data': 'Terça-feira08/12', 'max': '25°', 'min': '22°'},\n",
              " {'data': 'Quarta-feira09/12', 'max': '24°', 'min': '22°'},\n",
              " {'data': 'Quinta-feira10/12', 'max': '25°', 'min': '22°'},\n",
              " {'data': 'Sexta-feira11/12', 'max': '27°', 'min': '23°'},\n",
              " {'data': 'Sábado12/12', 'max': '25°', 'min': '22°'},\n",
              " {'data': 'Domingo13/12', 'max': '24°', 'min': '22°'}]"
            ]
          },
          "metadata": {
            "tags": []
          },
          "execution_count": 21
        }
      ]
    },
    {
      "cell_type": "code",
      "metadata": {
        "id": "SzrzWC32uDo3"
      },
      "source": [
        ""
      ],
      "execution_count": null,
      "outputs": []
    }
  ]
}